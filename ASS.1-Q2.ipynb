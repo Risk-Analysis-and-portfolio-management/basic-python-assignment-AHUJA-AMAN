{
 "cells": [
  {
   "cell_type": "markdown",
   "id": "4091c5e3-925e-4809-ad49-2bed41b5fadf",
   "metadata": {},
   "source": [
    "ASSIGNMENT-1, QUES-2"
   ]
  },
  {
   "cell_type": "code",
   "execution_count": 40,
   "id": "f4f1075c-4505-4b46-8bc8-773e6d8681f5",
   "metadata": {},
   "outputs": [
    {
     "name": "stdout",
     "output_type": "stream",
     "text": [
      "Requirement already satisfied: yfinance in c:\\users\\hp\\anaconda3\\lib\\site-packages (0.2.50)Note: you may need to restart the kernel to use updated packages.\n",
      "\n",
      "Requirement already satisfied: pandas>=1.3.0 in c:\\users\\hp\\anaconda3\\lib\\site-packages (from yfinance) (2.2.2)\n",
      "Requirement already satisfied: numpy>=1.16.5 in c:\\users\\hp\\anaconda3\\lib\\site-packages (from yfinance) (1.26.4)\n",
      "Requirement already satisfied: requests>=2.31 in c:\\users\\hp\\anaconda3\\lib\\site-packages (from yfinance) (2.32.3)\n",
      "Requirement already satisfied: multitasking>=0.0.7 in c:\\users\\hp\\anaconda3\\lib\\site-packages (from yfinance) (0.0.11)\n",
      "Requirement already satisfied: lxml>=4.9.1 in c:\\users\\hp\\anaconda3\\lib\\site-packages (from yfinance) (5.2.1)\n",
      "Requirement already satisfied: platformdirs>=2.0.0 in c:\\users\\hp\\anaconda3\\lib\\site-packages (from yfinance) (3.10.0)\n",
      "Requirement already satisfied: pytz>=2022.5 in c:\\users\\hp\\anaconda3\\lib\\site-packages (from yfinance) (2024.1)\n",
      "Requirement already satisfied: frozendict>=2.3.4 in c:\\users\\hp\\anaconda3\\lib\\site-packages (from yfinance) (2.4.2)\n",
      "Requirement already satisfied: peewee>=3.16.2 in c:\\users\\hp\\anaconda3\\lib\\site-packages (from yfinance) (3.17.8)\n",
      "Requirement already satisfied: beautifulsoup4>=4.11.1 in c:\\users\\hp\\anaconda3\\lib\\site-packages (from yfinance) (4.12.3)\n",
      "Requirement already satisfied: html5lib>=1.1 in c:\\users\\hp\\anaconda3\\lib\\site-packages (from yfinance) (1.1)\n",
      "Requirement already satisfied: soupsieve>1.2 in c:\\users\\hp\\anaconda3\\lib\\site-packages (from beautifulsoup4>=4.11.1->yfinance) (2.5)\n",
      "Requirement already satisfied: six>=1.9 in c:\\users\\hp\\anaconda3\\lib\\site-packages (from html5lib>=1.1->yfinance) (1.16.0)\n",
      "Requirement already satisfied: webencodings in c:\\users\\hp\\anaconda3\\lib\\site-packages (from html5lib>=1.1->yfinance) (0.5.1)\n",
      "Requirement already satisfied: python-dateutil>=2.8.2 in c:\\users\\hp\\anaconda3\\lib\\site-packages (from pandas>=1.3.0->yfinance) (2.9.0.post0)\n",
      "Requirement already satisfied: tzdata>=2022.7 in c:\\users\\hp\\anaconda3\\lib\\site-packages (from pandas>=1.3.0->yfinance) (2023.3)\n",
      "Requirement already satisfied: charset-normalizer<4,>=2 in c:\\users\\hp\\anaconda3\\lib\\site-packages (from requests>=2.31->yfinance) (3.3.2)\n",
      "Requirement already satisfied: idna<4,>=2.5 in c:\\users\\hp\\anaconda3\\lib\\site-packages (from requests>=2.31->yfinance) (3.7)\n",
      "Requirement already satisfied: urllib3<3,>=1.21.1 in c:\\users\\hp\\anaconda3\\lib\\site-packages (from requests>=2.31->yfinance) (2.2.3)\n",
      "Requirement already satisfied: certifi>=2017.4.17 in c:\\users\\hp\\anaconda3\\lib\\site-packages (from requests>=2.31->yfinance) (2024.8.30)\n"
     ]
    }
   ],
   "source": [
    "pip install yfinance"
   ]
  },
  {
   "cell_type": "markdown",
   "id": "66a30c98-5b69-4588-a3f8-f0022c8326f9",
   "metadata": {},
   "source": [
    "importing necessary libraries"
   ]
  },
  {
   "cell_type": "code",
   "execution_count": 41,
   "id": "f26d68e8-fe0c-4f8d-8f76-f1c9a4cea0c9",
   "metadata": {},
   "outputs": [],
   "source": [
    "import yfinance as yf \n",
    "import numpy as np\n",
    "import pandas as pd\n",
    "import matplotlib.pyplot as plt\n",
    "import itertools \n",
    "import math"
   ]
  },
  {
   "cell_type": "markdown",
   "id": "395928c0-f38d-418d-9145-ecaca94b856c",
   "metadata": {},
   "source": [
    "taking three stocks from the user:(example- AAPL) "
   ]
  },
  {
   "cell_type": "code",
   "execution_count": 47,
   "id": "317ee223-f6e1-42e2-91df-ef61541e3795",
   "metadata": {},
   "outputs": [
    {
     "name": "stdin",
     "output_type": "stream",
     "text": [
      "Enter first stock ticker:  QCOM\n",
      "Enter second stock ticker:  AAPL\n",
      "Enter third stock ticker:  GOOGL\n"
     ]
    }
   ],
   "source": [
    "#takes input from user for stock tickers\n",
    "\n",
    "stock1=input(\"Enter first stock ticker: \")\n",
    "stock2=input(\"Enter second stock ticker: \")\n",
    "stock3=input(\"Enter third stock ticker: \")"
   ]
  },
  {
   "cell_type": "markdown",
   "id": "a1d1bb3c-e3e7-4ebd-a475-51b2992d5f43",
   "metadata": {},
   "source": [
    "extracting closing prices from yfinance"
   ]
  },
  {
   "cell_type": "code",
   "execution_count": 48,
   "id": "6d7f430b-e26a-4f1e-922c-364938d0f9f7",
   "metadata": {},
   "outputs": [
    {
     "name": "stderr",
     "output_type": "stream",
     "text": [
      "[*********************100%***********************]  1 of 1 completed\n",
      "[*********************100%***********************]  1 of 1 completed\n",
      "[*********************100%***********************]  1 of 1 completed\n"
     ]
    }
   ],
   "source": [
    "data1=yf.download(tickers=stock1,start=\"2024-01-01\",end=\"2024-06-01\",interval=\"1d\")\n",
    "closing1=data1[\"Close\"]\n",
    "data2=yf.download(tickers=stock2,start=\"2024-01-01\",end=\"2024-06-01\",interval=\"1d\")\n",
    "closing2=data2[\"Close\"]\n",
    "data3=yf.download(tickers=stock3,start=\"2024-01-01\",end=\"2024-06-01\",interval=\"1d\")\n",
    "closing3=data3[\"Close\"]"
   ]
  },
  {
   "cell_type": "markdown",
   "id": "56a14ce9-4534-4961-a164-37129dfe29ef",
   "metadata": {},
   "source": [
    "Calculating Daily returns"
   ]
  },
  {
   "cell_type": "code",
   "execution_count": 49,
   "id": "f8ed8042-2204-43bd-af37-a5359d36b873",
   "metadata": {},
   "outputs": [],
   "source": [
    "#Calculating daily returns using a function and storing them in a list\n",
    "def daily_return(closing):\n",
    "    closing_copy=closing.copy()\n",
    "    closing_copy.index=range(0,len(closing))\n",
    "    daily_return_list=[]\n",
    "\n",
    "    i=1\n",
    "    while i<len(closing_copy):\n",
    "        daily_return_value=(closing_copy.loc[i]-closing_copy.loc[i-1])/closing_copy.loc[i-1]\n",
    "        daily_return_list.append(float(daily_return_value.iloc[0]))\n",
    "        i+=1\n",
    "\n",
    "\n",
    "    return daily_return_list\n",
    "\n",
    "\n",
    "return_list1=daily_return(closing1)\n",
    "return_list2=daily_return(closing2)\n",
    "return_list3=daily_return(closing3)\n",
    "\n",
    "#this was asked to do as a task in the assignment,however not asked to submit therefore i have only stored the values and not printed them.\n",
    "\n",
    "\n"
   ]
  },
  {
   "cell_type": "markdown",
   "id": "a662da9d-25f0-44d1-a946-78fb858dfc61",
   "metadata": {},
   "source": [
    "Calculating portfolio value after each day"
   ]
  },
  {
   "cell_type": "code",
   "execution_count": 50,
   "id": "213ee041-e668-4635-8755-093b7074dbb2",
   "metadata": {},
   "outputs": [
    {
     "name": "stderr",
     "output_type": "stream",
     "text": [
      "C:\\Users\\HP\\AppData\\Local\\Temp\\ipykernel_13024\\3799672020.py:3: FutureWarning: Calling float on a single element Series is deprecated and will raise a TypeError in the future. Use float(ser.iloc[0]) instead\n",
      "  no_of_stock1=math.floor(investment/closing1.loc[\"2024-01-02\"])\n",
      "C:\\Users\\HP\\AppData\\Local\\Temp\\ipykernel_13024\\3799672020.py:4: FutureWarning: Calling float on a single element Series is deprecated and will raise a TypeError in the future. Use float(ser.iloc[0]) instead\n",
      "  no_of_stock2=math.floor(investment/closing2.loc[\"2024-01-02\"])\n",
      "C:\\Users\\HP\\AppData\\Local\\Temp\\ipykernel_13024\\3799672020.py:5: FutureWarning: Calling float on a single element Series is deprecated and will raise a TypeError in the future. Use float(ser.iloc[0]) instead\n",
      "  no_of_stock3=math.floor(investment/closing3.loc[\"2024-01-02\"])\n"
     ]
    }
   ],
   "source": [
    "# equally $3333.33 are invested into each stock, however the complete amount is not invested as shares cannot be bought in fraction hence we use .floor() \n",
    "investment=3333.33\n",
    "no_of_stock1=math.floor(investment/closing1.loc[\"2024-01-02\"])\n",
    "no_of_stock2=math.floor(investment/closing2.loc[\"2024-01-02\"])\n",
    "no_of_stock3=math.floor(investment/closing3.loc[\"2024-01-02\"])\n",
    "\n",
    "# the shares1 parameter in the below function refers to the no of stocks of the first stock \n",
    "# closing1 is the previously extracted closing prices data from the financial data\n",
    "\n",
    "def portfolio_value_list(shares1,shares2,shares3,closing1,closing2,closing3):\n",
    "    portfolio_value_list=[]\n",
    "    closing_list1=closing1.squeeze().tolist()\n",
    "    closing_list2=closing2.squeeze().tolist()\n",
    "    closing_list3=closing3.squeeze().tolist()\n",
    "    for (a,b,c) in zip(closing_list1,closing_list2,closing_list3):\n",
    "        portfolio_value=a*shares1+b*shares2+c*shares3\n",
    "        portfolio_value_list.append(portfolio_value)\n",
    "\n",
    "    return portfolio_value_list\n",
    "\n",
    "\n",
    "    \n"
   ]
  },
  {
   "cell_type": "markdown",
   "id": "54402c23-c083-496e-94a7-10d697371879",
   "metadata": {},
   "source": [
    "Now calculating the portfolio return(daily returns of the portfolio)"
   ]
  },
  {
   "cell_type": "code",
   "execution_count": 51,
   "id": "ede3c672-63bf-44e5-bded-3eb4ad55a782",
   "metadata": {},
   "outputs": [
    {
     "name": "stderr",
     "output_type": "stream",
     "text": [
      "C:\\Users\\HP\\AppData\\Local\\Temp\\ipykernel_13024\\1441519096.py:5: FutureWarning: Calling float on a single element Series is deprecated and will raise a TypeError in the future. Use float(ser.iloc[0]) instead\n",
      "  weight=float(closing.iloc[0])*shares/total_money_invested\n"
     ]
    }
   ],
   "source": [
    "#calculating actual weights\n",
    "#shares represent the parameter for no. of stocks bought\n",
    "def weight_calculate(shares,closing):\n",
    "    total_money_invested=portfolio_value_list(no_of_stock1,no_of_stock2,no_of_stock3,closing1,closing2,closing3)[0]\n",
    "    weight=float(closing.iloc[0])*shares/total_money_invested\n",
    "    return weight\n",
    "    \n",
    "#storing weights in a list by using the weight function defined above\n",
    "weight1=weight_calculate(no_of_stock1,closing1)\n",
    "weight2=weight_calculate(no_of_stock2,closing2)\n",
    "weight3=weight_calculate(no_of_stock3,closing3)\n",
    "weights=[weight1,weight2,weight3]\n",
    "\n",
    "def portfolio_return(list1,list2,list3,weights):\n",
    "    portfolio_return_list=[]\n",
    "    for (a,b,c) in zip(list1,list2,list3):\n",
    "        \n",
    "        portfolio_value=weights[0]*a+weights[1]*b+weights[2]*c\n",
    "        portfolio_return_list.append(portfolio_value)\n",
    "    return portfolio_return_list\n",
    "\n",
    "#stored the daily returns of the portfolio in a list\n",
    "\n",
    "portfolio_daily_returns_list=portfolio_return(return_list1,return_list2,return_list3,weights)\n",
    "\n",
    "#this was asked to do as a task in the assignment,however not asked to submit therefore i have only stored the values and not printed them."
   ]
  },
  {
   "cell_type": "markdown",
   "id": "3986bc55-8ac6-4ceb-8e62-60f16bda820d",
   "metadata": {},
   "source": [
    "Now plotting the portfolio daily returns vs time(date)"
   ]
  },
  {
   "cell_type": "code",
   "execution_count": 52,
   "id": "5ff8aea0-902b-41b2-8d1d-f78c417df91a",
   "metadata": {},
   "outputs": [
    {
     "data": {
      "image/png": "[encoded data removed]",
      "text/plain": [
       "<Figure size 640x480 with 1 Axes>"
      ]
     },
     "metadata": {},
     "output_type": "display_data"
    }
   ],
   "source": [
    "#getting the date column from closing dataframe\n",
    "date=closing1.index\n",
    "#plotting the graph\n",
    "plt.plot(date,portfolio_value_list(no_of_stock1,no_of_stock2,no_of_stock3,closing1,closing2,closing3))\n",
    "plt.grid()\n",
    "plt.xlabel(\"Date\")\n",
    "plt.ylabel(\"Portfolio Value in USD\")\n",
    "plt.title(\"Portfolio Returns Over Time\",size=15)\n",
    "plt.show()\n"
   ]
  },
  {
   "cell_type": "markdown",
   "id": "ba59aaab-44cd-4719-bb9f-2500b3fa547e",
   "metadata": {},
   "source": [
    "Calculating the portfolio's final value at the end of six months"
   ]
  },
  {
   "cell_type": "code",
   "execution_count": 53,
   "id": "6c26d8fc-1d7f-44e0-b28a-da452eeca4cd",
   "metadata": {},
   "outputs": [
    {
     "name": "stdout",
     "output_type": "stream",
     "text": [
      "The portfolio initial investment is\n",
      "9697.24984741211\n",
      "The final portfolio value is:\n",
      "12101.40007019043\n"
     ]
    }
   ],
   "source": [
    "print(\"The portfolio initial investment is\")\n",
    "print(portfolio_value_list(no_of_stock1,no_of_stock2,no_of_stock3,closing1,closing2,closing3)[0])\n",
    "print(\"The final portfolio value is:\")\n",
    "print(portfolio_value_list(no_of_stock1,no_of_stock2,no_of_stock3,closing1,closing2,closing3)[-1])"
   ]
  },
  {
   "cell_type": "code",
   "execution_count": null,
   "id": "f56873c6-a4c2-44b7-b947-58a498dd2983",
   "metadata": {},
   "outputs": [],
   "source": []
  },
  {
   "cell_type": "code",
   "execution_count": null,
   "id": "41a35c68-c4d6-4ac7-8e32-2cd0f773cad0",
   "metadata": {},
   "outputs": [],
   "source": []
  },
  {
   "cell_type": "code",
   "execution_count": null,
   "id": "520de1a1-bc22-4bed-b7a2-2f81ddea61de",
   "metadata": {},
   "outputs": [],
   "source": []
  }
 ],
 "metadata": {
  "kernelspec": {
   "display_name": "Python 3 (ipykernel)",
   "language": "python",
   "name": "python3"
  },
  "language_info": {
   "codemirror_mode": {
    "name": "ipython",
    "version": 3
   },
   "file_extension": ".py",
   "mimetype": "text/x-python",
   "name": "python",
   "nbconvert_exporter": "python",
   "pygments_lexer": "ipython3",
   "version": "3.12.7"
  }
 },
 "nbformat": 4,
 "nbformat_minor": 5
}
